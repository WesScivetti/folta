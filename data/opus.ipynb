{
 "cells": [
  {
   "cell_type": "markdown",
   "metadata": {
    "collapsed": true,
    "pycharm": {
     "name": "#%% md\n"
    }
   },
   "source": [
    "### Using Opus to Query from Python\n",
    "\n",
    "You can use python to query JW300 and other texts from OPUS."
   ]
  },
  {
   "cell_type": "code",
   "execution_count": 4,
   "outputs": [],
   "source": [
    "# import the module\n",
    "import opustools_pkg"
   ],
   "metadata": {
    "collapsed": false,
    "pycharm": {
     "name": "#%%\n"
    }
   }
  },
  {
   "cell_type": "code",
   "execution_count": 9,
   "outputs": [],
   "source": [
    "# instantiate the reader object\n",
    "opus_reader = opustools_pkg.OpusRead(\n",
    "    directory='JW300',\n",
    "    source='en',\n",
    "    target='fi')"
   ],
   "metadata": {
    "collapsed": false,
    "pycharm": {
     "name": "#%%\n"
    }
   }
  },
  {
   "cell_type": "code",
   "execution_count": 10,
   "outputs": [
    {
     "name": "stdout",
     "output_type": "stream",
     "text": [
      "\n",
      "Alignment file /proj/nlpl/data/OPUS/JW300/latest/xml/en-fi.xml.gz not found. The following files are available for downloading:\n",
      "\n",
      "  19 MB https://object.pouta.csc.fi/OPUS-JW300/v1/xml/en-fi.xml.gz\n",
      " 263 MB https://object.pouta.csc.fi/OPUS-JW300/v1/xml/en.zip\n",
      " 208 MB https://object.pouta.csc.fi/OPUS-JW300/v1/xml/fi.zip\n",
      "\n",
      " 490 MB Total size\n",
      "Unable to retrieve the data.\n",
      "No alignment file \"/proj/nlpl/data/OPUS/JW300/latest/xml/en-fi.xml.gz\" or \"./JW300_latest_xml_en-fi.xml.gz\" found\n"
     ]
    }
   ],
   "source": [
    "# print out the available texts\n",
    "# This doesn't work for me. I think the links have changed internally.\n",
    "# It brings up the links, but tries (and fails) to download the wrong link.\n",
    "opus_reader.printPairs()"
   ],
   "metadata": {
    "collapsed": false,
    "pycharm": {
     "name": "#%%\n"
    }
   }
  },
  {
   "cell_type": "code",
   "execution_count": null,
   "outputs": [],
   "source": [],
   "metadata": {
    "collapsed": false,
    "pycharm": {
     "name": "#%%\n"
    }
   }
  }
 ],
 "metadata": {
  "kernelspec": {
   "display_name": "Python 3",
   "language": "python",
   "name": "python3"
  },
  "language_info": {
   "codemirror_mode": {
    "name": "ipython",
    "version": 2
   },
   "file_extension": ".py",
   "mimetype": "text/x-python",
   "name": "python",
   "nbconvert_exporter": "python",
   "pygments_lexer": "ipython2",
   "version": "2.7.6"
  }
 },
 "nbformat": 4,
 "nbformat_minor": 0
}